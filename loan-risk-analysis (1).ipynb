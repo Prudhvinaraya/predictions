{
 "cells": [
  {
   "cell_type": "code",
   "execution_count": 1,
   "id": "5b3c8270",
   "metadata": {
    "_cell_guid": "b1076dfc-b9ad-4769-8c92-a6c4dae69d19",
    "_uuid": "8f2839f25d086af736a60e9eeb907d3b93b6e0e5",
    "execution": {
     "iopub.execute_input": "2023-10-14T19:53:41.024624Z",
     "iopub.status.busy": "2023-10-14T19:53:41.023956Z",
     "iopub.status.idle": "2023-10-14T19:53:41.028147Z",
     "shell.execute_reply": "2023-10-14T19:53:41.027459Z"
    },
    "papermill": {
     "duration": 0.010699,
     "end_time": "2023-10-14T19:53:41.029845",
     "exception": false,
     "start_time": "2023-10-14T19:53:41.019146",
     "status": "completed"
    },
    "tags": []
   },
   "outputs": [],
   "source": [
    "#This Notebook is Contributed by PRUDHVI NARAYANA BANDARU -LOVE TOWARDS DATA\n",
    "#Please let me know whether i did any mistakes ...you can mail me @ pn4235700@gmail.com"
   ]
  },
  {
   "cell_type": "code",
   "execution_count": 2,
   "id": "df265b9f",
   "metadata": {
    "execution": {
     "iopub.execute_input": "2023-10-14T19:53:41.039452Z",
     "iopub.status.busy": "2023-10-14T19:53:41.038869Z",
     "iopub.status.idle": "2023-10-14T19:53:41.422915Z",
     "shell.execute_reply": "2023-10-14T19:53:41.422146Z"
    },
    "papermill": {
     "duration": 0.39059,
     "end_time": "2023-10-14T19:53:41.425385",
     "exception": false,
     "start_time": "2023-10-14T19:53:41.034795",
     "status": "completed"
    },
    "tags": []
   },
   "outputs": [
    {
     "name": "stdout",
     "output_type": "stream",
     "text": [
      "/kaggle/input/loan-risk-analysis-dataset-real-world-data/Case_Data.csv\n"
     ]
    }
   ],
   "source": [
    "# This Python 3 environment comes with many helpful analytics libraries installed\n",
    "# It is defined by the kaggle/python Docker image: https://github.com/kaggle/docker-python\n",
    "# For example, here's several helpful packages to load\n",
    "\n",
    "import numpy as np # linear algebra\n",
    "import pandas as pd # data processing, CSV file I/O (e.g. pd.read_csv)\n",
    "\n",
    "# Input data files are available in the read-only \"../input/\" directory\n",
    "# For example, running this (by clicking run or pressing Shift+Enter) will list all files under the input directory\n",
    "\n",
    "import os\n",
    "for dirname, _, filenames in os.walk('/kaggle/input'):\n",
    "    for filename in filenames:\n",
    "        print(os.path.join(dirname, filename))\n",
    "\n",
    "# You can write up to 20GB to the current directory (/kaggle/working/) that gets preserved as output when you create a version using \"Save & Run All\" \n",
    "# You can also write temporary files to /kaggle/temp/, but they won't be saved outside of the current session"
   ]
  },
  {
   "cell_type": "code",
   "execution_count": 3,
   "id": "1a8798dc",
   "metadata": {
    "execution": {
     "iopub.execute_input": "2023-10-14T19:53:41.436550Z",
     "iopub.status.busy": "2023-10-14T19:53:41.435664Z",
     "iopub.status.idle": "2023-10-14T19:53:41.441761Z",
     "shell.execute_reply": "2023-10-14T19:53:41.441049Z"
    },
    "papermill": {
     "duration": 0.012358,
     "end_time": "2023-10-14T19:53:41.443511",
     "exception": false,
     "start_time": "2023-10-14T19:53:41.431153",
     "status": "completed"
    },
    "tags": []
   },
   "outputs": [
    {
     "data": {
      "text/plain": [
       "'\\n->DATA CLEANING AND PREPROCESSING\\n->FITTING THE RANDOM FOREST ALGORITHM TO THE DATA\\n->PREDICTING THE TEST RESULT\\n->TEST ACCURACY OF THE RESULT (PLOT CONFUSION MATRIX)\\n->VISULIZE THE TEST SET RESULTS(PLOTING CONTOUR PLOTS)\\n'"
      ]
     },
     "execution_count": 3,
     "metadata": {},
     "output_type": "execute_result"
    }
   ],
   "source": [
    "#Loan Risk analysis using Random Forest Classifier\n",
    "\n",
    "#steps\n",
    "'''\n",
    "->DATA CLEANING AND PREPROCESSING\n",
    "->FITTING THE RANDOM FOREST ALGORITHM TO THE DATA\n",
    "->PREDICTING THE TEST RESULT\n",
    "->TEST ACCURACY OF THE RESULT (PLOT CONFUSION MATRIX)\n",
    "->VISULIZE THE TEST SET RESULTS(PLOTING CONTOUR PLOTS)\n",
    "'''"
   ]
  },
  {
   "cell_type": "code",
   "execution_count": 4,
   "id": "cd21fa17",
   "metadata": {
    "execution": {
     "iopub.execute_input": "2023-10-14T19:53:41.451830Z",
     "iopub.status.busy": "2023-10-14T19:53:41.451154Z",
     "iopub.status.idle": "2023-10-14T19:53:45.362129Z",
     "shell.execute_reply": "2023-10-14T19:53:45.361289Z"
    },
    "papermill": {
     "duration": 3.917314,
     "end_time": "2023-10-14T19:53:45.364252",
     "exception": false,
     "start_time": "2023-10-14T19:53:41.446938",
     "status": "completed"
    },
    "tags": []
   },
   "outputs": [
    {
     "data": {
      "text/html": [
       "<div>\n",
       "<style scoped>\n",
       "    .dataframe tbody tr th:only-of-type {\n",
       "        vertical-align: middle;\n",
       "    }\n",
       "\n",
       "    .dataframe tbody tr th {\n",
       "        vertical-align: top;\n",
       "    }\n",
       "\n",
       "    .dataframe thead th {\n",
       "        text-align: right;\n",
       "    }\n",
       "</style>\n",
       "<table border=\"1\" class=\"dataframe\">\n",
       "  <thead>\n",
       "    <tr style=\"text-align: right;\">\n",
       "      <th></th>\n",
       "      <th>id</th>\n",
       "      <th>member_id</th>\n",
       "      <th>loan_amnt</th>\n",
       "      <th>funded_amnt</th>\n",
       "      <th>int_rate</th>\n",
       "      <th>installment</th>\n",
       "      <th>grade</th>\n",
       "      <th>annual_inc</th>\n",
       "      <th>dti</th>\n",
       "      <th>delinq_2yrs</th>\n",
       "      <th>...</th>\n",
       "      <th>total_rec_int</th>\n",
       "      <th>total_rec_late_fee</th>\n",
       "      <th>recoveries</th>\n",
       "      <th>collection_recovery_fee</th>\n",
       "      <th>last_pymnt_amnt</th>\n",
       "      <th>collections_12_mths_ex_med</th>\n",
       "      <th>acc_now_delinq</th>\n",
       "      <th>tot_coll_amt</th>\n",
       "      <th>tot_cur_bal</th>\n",
       "      <th>total_rev_hi_lim</th>\n",
       "    </tr>\n",
       "  </thead>\n",
       "  <tbody>\n",
       "    <tr>\n",
       "      <th>0</th>\n",
       "      <td>60516983</td>\n",
       "      <td>64537751</td>\n",
       "      <td>20000</td>\n",
       "      <td>20000</td>\n",
       "      <td>12.29</td>\n",
       "      <td>667.06</td>\n",
       "      <td>C</td>\n",
       "      <td>65000.00</td>\n",
       "      <td>20.72</td>\n",
       "      <td>0</td>\n",
       "      <td>...</td>\n",
       "      <td>0.00</td>\n",
       "      <td>0.0</td>\n",
       "      <td>0.0</td>\n",
       "      <td>0.0</td>\n",
       "      <td>0.00</td>\n",
       "      <td>0</td>\n",
       "      <td>0</td>\n",
       "      <td>0</td>\n",
       "      <td>52303</td>\n",
       "      <td>41000</td>\n",
       "    </tr>\n",
       "    <tr>\n",
       "      <th>1</th>\n",
       "      <td>60187139</td>\n",
       "      <td>64163931</td>\n",
       "      <td>11000</td>\n",
       "      <td>11000</td>\n",
       "      <td>12.69</td>\n",
       "      <td>369.00</td>\n",
       "      <td>C</td>\n",
       "      <td>40000.00</td>\n",
       "      <td>24.57</td>\n",
       "      <td>0</td>\n",
       "      <td>...</td>\n",
       "      <td>100.81</td>\n",
       "      <td>0.0</td>\n",
       "      <td>0.0</td>\n",
       "      <td>0.0</td>\n",
       "      <td>10059.00</td>\n",
       "      <td>0</td>\n",
       "      <td>0</td>\n",
       "      <td>332</td>\n",
       "      <td>175731</td>\n",
       "      <td>13100</td>\n",
       "    </tr>\n",
       "    <tr>\n",
       "      <th>2</th>\n",
       "      <td>60356453</td>\n",
       "      <td>64333218</td>\n",
       "      <td>7000</td>\n",
       "      <td>7000</td>\n",
       "      <td>9.99</td>\n",
       "      <td>225.84</td>\n",
       "      <td>B</td>\n",
       "      <td>32000.00</td>\n",
       "      <td>32.41</td>\n",
       "      <td>0</td>\n",
       "      <td>...</td>\n",
       "      <td>54.40</td>\n",
       "      <td>0.0</td>\n",
       "      <td>0.0</td>\n",
       "      <td>0.0</td>\n",
       "      <td>225.84</td>\n",
       "      <td>0</td>\n",
       "      <td>0</td>\n",
       "      <td>0</td>\n",
       "      <td>202012</td>\n",
       "      <td>16300</td>\n",
       "    </tr>\n",
       "    <tr>\n",
       "      <th>3</th>\n",
       "      <td>59955769</td>\n",
       "      <td>63900496</td>\n",
       "      <td>10000</td>\n",
       "      <td>10000</td>\n",
       "      <td>10.99</td>\n",
       "      <td>327.34</td>\n",
       "      <td>B</td>\n",
       "      <td>48000.00</td>\n",
       "      <td>30.98</td>\n",
       "      <td>0</td>\n",
       "      <td>...</td>\n",
       "      <td>79.37</td>\n",
       "      <td>0.0</td>\n",
       "      <td>0.0</td>\n",
       "      <td>0.0</td>\n",
       "      <td>327.34</td>\n",
       "      <td>0</td>\n",
       "      <td>0</td>\n",
       "      <td>0</td>\n",
       "      <td>108235</td>\n",
       "      <td>34750</td>\n",
       "    </tr>\n",
       "    <tr>\n",
       "      <th>4</th>\n",
       "      <td>58703693</td>\n",
       "      <td>62544456</td>\n",
       "      <td>9550</td>\n",
       "      <td>9550</td>\n",
       "      <td>19.99</td>\n",
       "      <td>354.87</td>\n",
       "      <td>E</td>\n",
       "      <td>32376.00</td>\n",
       "      <td>32.54</td>\n",
       "      <td>0</td>\n",
       "      <td>...</td>\n",
       "      <td>137.88</td>\n",
       "      <td>0.0</td>\n",
       "      <td>0.0</td>\n",
       "      <td>0.0</td>\n",
       "      <td>354.87</td>\n",
       "      <td>0</td>\n",
       "      <td>0</td>\n",
       "      <td>0</td>\n",
       "      <td>45492</td>\n",
       "      <td>14100</td>\n",
       "    </tr>\n",
       "    <tr>\n",
       "      <th>...</th>\n",
       "      <td>...</td>\n",
       "      <td>...</td>\n",
       "      <td>...</td>\n",
       "      <td>...</td>\n",
       "      <td>...</td>\n",
       "      <td>...</td>\n",
       "      <td>...</td>\n",
       "      <td>...</td>\n",
       "      <td>...</td>\n",
       "      <td>...</td>\n",
       "      <td>...</td>\n",
       "      <td>...</td>\n",
       "      <td>...</td>\n",
       "      <td>...</td>\n",
       "      <td>...</td>\n",
       "      <td>...</td>\n",
       "      <td>...</td>\n",
       "      <td>...</td>\n",
       "      <td>...</td>\n",
       "      <td>...</td>\n",
       "      <td>...</td>\n",
       "    </tr>\n",
       "    <tr>\n",
       "      <th>212994</th>\n",
       "      <td>54067695</td>\n",
       "      <td>57608436</td>\n",
       "      <td>20000</td>\n",
       "      <td>20000</td>\n",
       "      <td>13.33</td>\n",
       "      <td>677.07</td>\n",
       "      <td>C</td>\n",
       "      <td>120000.00</td>\n",
       "      <td>9.04</td>\n",
       "      <td>0</td>\n",
       "      <td>...</td>\n",
       "      <td>1267.56</td>\n",
       "      <td>0.0</td>\n",
       "      <td>0.0</td>\n",
       "      <td>0.0</td>\n",
       "      <td>700.00</td>\n",
       "      <td>0</td>\n",
       "      <td>0</td>\n",
       "      <td>574</td>\n",
       "      <td>21474</td>\n",
       "      <td>5400</td>\n",
       "    </tr>\n",
       "    <tr>\n",
       "      <th>212995</th>\n",
       "      <td>54414443</td>\n",
       "      <td>57995197</td>\n",
       "      <td>6000</td>\n",
       "      <td>6000</td>\n",
       "      <td>11.53</td>\n",
       "      <td>197.95</td>\n",
       "      <td>B</td>\n",
       "      <td>25000.00</td>\n",
       "      <td>2.21</td>\n",
       "      <td>0</td>\n",
       "      <td>...</td>\n",
       "      <td>295.77</td>\n",
       "      <td>0.0</td>\n",
       "      <td>0.0</td>\n",
       "      <td>0.0</td>\n",
       "      <td>197.95</td>\n",
       "      <td>0</td>\n",
       "      <td>0</td>\n",
       "      <td>0</td>\n",
       "      <td>2176</td>\n",
       "      <td>4200</td>\n",
       "    </tr>\n",
       "    <tr>\n",
       "      <th>212996</th>\n",
       "      <td>54474829</td>\n",
       "      <td>58055589</td>\n",
       "      <td>18000</td>\n",
       "      <td>18000</td>\n",
       "      <td>19.19</td>\n",
       "      <td>468.82</td>\n",
       "      <td>E</td>\n",
       "      <td>120000.00</td>\n",
       "      <td>7.76</td>\n",
       "      <td>0</td>\n",
       "      <td>...</td>\n",
       "      <td>1663.56</td>\n",
       "      <td>0.0</td>\n",
       "      <td>0.0</td>\n",
       "      <td>0.0</td>\n",
       "      <td>468.82</td>\n",
       "      <td>1</td>\n",
       "      <td>0</td>\n",
       "      <td>4404</td>\n",
       "      <td>8414</td>\n",
       "      <td>15300</td>\n",
       "    </tr>\n",
       "    <tr>\n",
       "      <th>212997</th>\n",
       "      <td>54354054</td>\n",
       "      <td>57934790</td>\n",
       "      <td>7050</td>\n",
       "      <td>7050</td>\n",
       "      <td>15.61</td>\n",
       "      <td>246.51</td>\n",
       "      <td>D</td>\n",
       "      <td>18614.27</td>\n",
       "      <td>21.53</td>\n",
       "      <td>1</td>\n",
       "      <td>...</td>\n",
       "      <td>513.41</td>\n",
       "      <td>0.0</td>\n",
       "      <td>0.0</td>\n",
       "      <td>0.0</td>\n",
       "      <td>246.51</td>\n",
       "      <td>0</td>\n",
       "      <td>0</td>\n",
       "      <td>0</td>\n",
       "      <td>159660</td>\n",
       "      <td>26800</td>\n",
       "    </tr>\n",
       "    <tr>\n",
       "      <th>212998</th>\n",
       "      <td>54345305</td>\n",
       "      <td>57926074</td>\n",
       "      <td>3500</td>\n",
       "      <td>3500</td>\n",
       "      <td>13.99</td>\n",
       "      <td>119.61</td>\n",
       "      <td>C</td>\n",
       "      <td>46000.00</td>\n",
       "      <td>15.37</td>\n",
       "      <td>0</td>\n",
       "      <td>...</td>\n",
       "      <td>228.11</td>\n",
       "      <td>0.0</td>\n",
       "      <td>0.0</td>\n",
       "      <td>0.0</td>\n",
       "      <td>119.61</td>\n",
       "      <td>0</td>\n",
       "      <td>0</td>\n",
       "      <td>0</td>\n",
       "      <td>174695</td>\n",
       "      <td>15600</td>\n",
       "    </tr>\n",
       "  </tbody>\n",
       "</table>\n",
       "<p>212999 rows × 28 columns</p>\n",
       "</div>"
      ],
      "text/plain": [
       "              id  member_id  loan_amnt  funded_amnt  int_rate  installment  \\\n",
       "0       60516983   64537751      20000        20000     12.29       667.06   \n",
       "1       60187139   64163931      11000        11000     12.69       369.00   \n",
       "2       60356453   64333218       7000         7000      9.99       225.84   \n",
       "3       59955769   63900496      10000        10000     10.99       327.34   \n",
       "4       58703693   62544456       9550         9550     19.99       354.87   \n",
       "...          ...        ...        ...          ...       ...          ...   \n",
       "212994  54067695   57608436      20000        20000     13.33       677.07   \n",
       "212995  54414443   57995197       6000         6000     11.53       197.95   \n",
       "212996  54474829   58055589      18000        18000     19.19       468.82   \n",
       "212997  54354054   57934790       7050         7050     15.61       246.51   \n",
       "212998  54345305   57926074       3500         3500     13.99       119.61   \n",
       "\n",
       "       grade  annual_inc    dti  delinq_2yrs  ...  total_rec_int  \\\n",
       "0          C    65000.00  20.72            0  ...           0.00   \n",
       "1          C    40000.00  24.57            0  ...         100.81   \n",
       "2          B    32000.00  32.41            0  ...          54.40   \n",
       "3          B    48000.00  30.98            0  ...          79.37   \n",
       "4          E    32376.00  32.54            0  ...         137.88   \n",
       "...      ...         ...    ...          ...  ...            ...   \n",
       "212994     C   120000.00   9.04            0  ...        1267.56   \n",
       "212995     B    25000.00   2.21            0  ...         295.77   \n",
       "212996     E   120000.00   7.76            0  ...        1663.56   \n",
       "212997     D    18614.27  21.53            1  ...         513.41   \n",
       "212998     C    46000.00  15.37            0  ...         228.11   \n",
       "\n",
       "        total_rec_late_fee  recoveries  collection_recovery_fee  \\\n",
       "0                      0.0         0.0                      0.0   \n",
       "1                      0.0         0.0                      0.0   \n",
       "2                      0.0         0.0                      0.0   \n",
       "3                      0.0         0.0                      0.0   \n",
       "4                      0.0         0.0                      0.0   \n",
       "...                    ...         ...                      ...   \n",
       "212994                 0.0         0.0                      0.0   \n",
       "212995                 0.0         0.0                      0.0   \n",
       "212996                 0.0         0.0                      0.0   \n",
       "212997                 0.0         0.0                      0.0   \n",
       "212998                 0.0         0.0                      0.0   \n",
       "\n",
       "        last_pymnt_amnt  collections_12_mths_ex_med  acc_now_delinq  \\\n",
       "0                  0.00                           0               0   \n",
       "1              10059.00                           0               0   \n",
       "2                225.84                           0               0   \n",
       "3                327.34                           0               0   \n",
       "4                354.87                           0               0   \n",
       "...                 ...                         ...             ...   \n",
       "212994           700.00                           0               0   \n",
       "212995           197.95                           0               0   \n",
       "212996           468.82                           1               0   \n",
       "212997           246.51                           0               0   \n",
       "212998           119.61                           0               0   \n",
       "\n",
       "        tot_coll_amt  tot_cur_bal  total_rev_hi_lim  \n",
       "0                  0        52303             41000  \n",
       "1                332       175731             13100  \n",
       "2                  0       202012             16300  \n",
       "3                  0       108235             34750  \n",
       "4                  0        45492             14100  \n",
       "...              ...          ...               ...  \n",
       "212994           574        21474              5400  \n",
       "212995             0         2176              4200  \n",
       "212996          4404         8414             15300  \n",
       "212997             0       159660             26800  \n",
       "212998             0       174695             15600  \n",
       "\n",
       "[212999 rows x 28 columns]"
      ]
     },
     "execution_count": 4,
     "metadata": {},
     "output_type": "execute_result"
    }
   ],
   "source": [
    "#->DATA CLEANING AND PREPROCESSING STEP\n",
    "\n",
    "#importing the essential libraries\n",
    "import numpy as np\n",
    "import pandas as pd\n",
    "import matplotlib.pyplot as plt\n",
    "import seaborn as sbs\n",
    "\n",
    "#Reading the data from csv file\n",
    "file_path='/kaggle/input/loan-risk-analysis-dataset-real-world-data/Case_Data.csv'\n",
    "data=pd.read_csv(file_path)\n",
    "\n",
    "\n",
    "\n",
    "#removing the tuples with null values(i used this preprocessing steps to decrease the difficulty)\n",
    "love=data.drop(['Row ID','annual_inc_joint','dti_joint','Unnamed: 50','emp_title', 'emp_length', 'title', 'mths_since_last_delinq',\n",
    "       'revol_util', 'last_pymnt_d', 'next_pymnt_d', 'last_credit_pull_d',\n",
    "       'mths_since_last_major_derog', '36months', '60months','sub_grade','application_type','home_ownership','term','verification_status','issue_d','loan_status','purpose','earliest_cr_line','initial_list_status'],axis=1)\n",
    "# null_cols=love.columns[love.isna().any()]\n",
    "# display(null_cols)\n",
    "\n",
    "x=love.drop('grade',axis=1)\n",
    "y=love['grade']\n",
    "#in this step i just asked what are the null columns ..and i simply removed them \n",
    "\n",
    "# string_columns = love.select_dtypes(include=['object']).columns\n",
    "# print(string_columns)\n",
    "love"
   ]
  },
  {
   "cell_type": "code",
   "execution_count": 5,
   "id": "a33883a4",
   "metadata": {
    "execution": {
     "iopub.execute_input": "2023-10-14T19:53:45.373197Z",
     "iopub.status.busy": "2023-10-14T19:53:45.372843Z",
     "iopub.status.idle": "2023-10-14T19:53:45.733966Z",
     "shell.execute_reply": "2023-10-14T19:53:45.732917Z"
    },
    "papermill": {
     "duration": 0.368702,
     "end_time": "2023-10-14T19:53:45.736690",
     "exception": false,
     "start_time": "2023-10-14T19:53:45.367988",
     "status": "completed"
    },
    "tags": []
   },
   "outputs": [],
   "source": [
    "#splitting the data into training and testing using built in train-test_split method within sklearn.model_selection\n",
    "from sklearn.model_selection import train_test_split\n",
    "x_train,x_test,y_train,y_test=train_test_split(x,y,test_size=0.25,random_state=0)"
   ]
  },
  {
   "cell_type": "code",
   "execution_count": 6,
   "id": "e564dae7",
   "metadata": {
    "execution": {
     "iopub.execute_input": "2023-10-14T19:53:45.747116Z",
     "iopub.status.busy": "2023-10-14T19:53:45.745918Z",
     "iopub.status.idle": "2023-10-14T19:53:45.751285Z",
     "shell.execute_reply": "2023-10-14T19:53:45.750248Z"
    },
    "papermill": {
     "duration": 0.012854,
     "end_time": "2023-10-14T19:53:45.753513",
     "exception": false,
     "start_time": "2023-10-14T19:53:45.740659",
     "status": "completed"
    },
    "tags": []
   },
   "outputs": [],
   "source": [
    "# # !pip install scikit-learn\n",
    "# #feature scaling ->can be done using MinMaxScaler function within sklearn.preprocessing\n",
    "# from sklearn.preprocessing import MinMaxScaler\n",
    "# mms=MinMaxScaler()\n",
    "# x_train=mms.fit_transform(x_train)->error coming\n",
    "\n",
    "\n",
    "#Here my data is consisting of string data also so here im unable to preprocess  the data"
   ]
  },
  {
   "cell_type": "code",
   "execution_count": 7,
   "id": "a807ba44",
   "metadata": {
    "execution": {
     "iopub.execute_input": "2023-10-14T19:53:45.763055Z",
     "iopub.status.busy": "2023-10-14T19:53:45.762635Z",
     "iopub.status.idle": "2023-10-14T19:53:55.696050Z",
     "shell.execute_reply": "2023-10-14T19:53:55.694970Z"
    },
    "papermill": {
     "duration": 9.940747,
     "end_time": "2023-10-14T19:53:55.698127",
     "exception": false,
     "start_time": "2023-10-14T19:53:45.757380",
     "status": "completed"
    },
    "tags": []
   },
   "outputs": [
    {
     "data": {
      "text/html": [
       "<style>#sk-container-id-1 {color: black;background-color: white;}#sk-container-id-1 pre{padding: 0;}#sk-container-id-1 div.sk-toggleable {background-color: white;}#sk-container-id-1 label.sk-toggleable__label {cursor: pointer;display: block;width: 100%;margin-bottom: 0;padding: 0.3em;box-sizing: border-box;text-align: center;}#sk-container-id-1 label.sk-toggleable__label-arrow:before {content: \"▸\";float: left;margin-right: 0.25em;color: #696969;}#sk-container-id-1 label.sk-toggleable__label-arrow:hover:before {color: black;}#sk-container-id-1 div.sk-estimator:hover label.sk-toggleable__label-arrow:before {color: black;}#sk-container-id-1 div.sk-toggleable__content {max-height: 0;max-width: 0;overflow: hidden;text-align: left;background-color: #f0f8ff;}#sk-container-id-1 div.sk-toggleable__content pre {margin: 0.2em;color: black;border-radius: 0.25em;background-color: #f0f8ff;}#sk-container-id-1 input.sk-toggleable__control:checked~div.sk-toggleable__content {max-height: 200px;max-width: 100%;overflow: auto;}#sk-container-id-1 input.sk-toggleable__control:checked~label.sk-toggleable__label-arrow:before {content: \"▾\";}#sk-container-id-1 div.sk-estimator input.sk-toggleable__control:checked~label.sk-toggleable__label {background-color: #d4ebff;}#sk-container-id-1 div.sk-label input.sk-toggleable__control:checked~label.sk-toggleable__label {background-color: #d4ebff;}#sk-container-id-1 input.sk-hidden--visually {border: 0;clip: rect(1px 1px 1px 1px);clip: rect(1px, 1px, 1px, 1px);height: 1px;margin: -1px;overflow: hidden;padding: 0;position: absolute;width: 1px;}#sk-container-id-1 div.sk-estimator {font-family: monospace;background-color: #f0f8ff;border: 1px dotted black;border-radius: 0.25em;box-sizing: border-box;margin-bottom: 0.5em;}#sk-container-id-1 div.sk-estimator:hover {background-color: #d4ebff;}#sk-container-id-1 div.sk-parallel-item::after {content: \"\";width: 100%;border-bottom: 1px solid gray;flex-grow: 1;}#sk-container-id-1 div.sk-label:hover label.sk-toggleable__label {background-color: #d4ebff;}#sk-container-id-1 div.sk-serial::before {content: \"\";position: absolute;border-left: 1px solid gray;box-sizing: border-box;top: 0;bottom: 0;left: 50%;z-index: 0;}#sk-container-id-1 div.sk-serial {display: flex;flex-direction: column;align-items: center;background-color: white;padding-right: 0.2em;padding-left: 0.2em;position: relative;}#sk-container-id-1 div.sk-item {position: relative;z-index: 1;}#sk-container-id-1 div.sk-parallel {display: flex;align-items: stretch;justify-content: center;background-color: white;position: relative;}#sk-container-id-1 div.sk-item::before, #sk-container-id-1 div.sk-parallel-item::before {content: \"\";position: absolute;border-left: 1px solid gray;box-sizing: border-box;top: 0;bottom: 0;left: 50%;z-index: -1;}#sk-container-id-1 div.sk-parallel-item {display: flex;flex-direction: column;z-index: 1;position: relative;background-color: white;}#sk-container-id-1 div.sk-parallel-item:first-child::after {align-self: flex-end;width: 50%;}#sk-container-id-1 div.sk-parallel-item:last-child::after {align-self: flex-start;width: 50%;}#sk-container-id-1 div.sk-parallel-item:only-child::after {width: 0;}#sk-container-id-1 div.sk-dashed-wrapped {border: 1px dashed gray;margin: 0 0.4em 0.5em 0.4em;box-sizing: border-box;padding-bottom: 0.4em;background-color: white;}#sk-container-id-1 div.sk-label label {font-family: monospace;font-weight: bold;display: inline-block;line-height: 1.2em;}#sk-container-id-1 div.sk-label-container {text-align: center;}#sk-container-id-1 div.sk-container {/* jupyter's `normalize.less` sets `[hidden] { display: none; }` but bootstrap.min.css set `[hidden] { display: none !important; }` so we also need the `!important` here to be able to override the default hidden behavior on the sphinx rendered scikit-learn.org. See: https://github.com/scikit-learn/scikit-learn/issues/21755 */display: inline-block !important;position: relative;}#sk-container-id-1 div.sk-text-repr-fallback {display: none;}</style><div id=\"sk-container-id-1\" class=\"sk-top-container\"><div class=\"sk-text-repr-fallback\"><pre>RandomForestClassifier(criterion=&#x27;entropy&#x27;, n_estimators=15)</pre><b>In a Jupyter environment, please rerun this cell to show the HTML representation or trust the notebook. <br />On GitHub, the HTML representation is unable to render, please try loading this page with nbviewer.org.</b></div><div class=\"sk-container\" hidden><div class=\"sk-item\"><div class=\"sk-estimator sk-toggleable\"><input class=\"sk-toggleable__control sk-hidden--visually\" id=\"sk-estimator-id-1\" type=\"checkbox\" checked><label for=\"sk-estimator-id-1\" class=\"sk-toggleable__label sk-toggleable__label-arrow\">RandomForestClassifier</label><div class=\"sk-toggleable__content\"><pre>RandomForestClassifier(criterion=&#x27;entropy&#x27;, n_estimators=15)</pre></div></div></div></div></div>"
      ],
      "text/plain": [
       "RandomForestClassifier(criterion='entropy', n_estimators=15)"
      ]
     },
     "execution_count": 7,
     "metadata": {},
     "output_type": "execute_result"
    }
   ],
   "source": [
    "#fitting the randomforest algorithm for training data\n",
    "from sklearn.ensemble import RandomForestClassifier\n",
    "classifier=RandomForestClassifier(n_estimators=15,criterion='entropy')\n",
    "classifier.fit(x_train,y_train)"
   ]
  },
  {
   "cell_type": "code",
   "execution_count": 8,
   "id": "10d5fec2",
   "metadata": {
    "execution": {
     "iopub.execute_input": "2023-10-14T19:53:55.707623Z",
     "iopub.status.busy": "2023-10-14T19:53:55.707274Z",
     "iopub.status.idle": "2023-10-14T19:53:55.861239Z",
     "shell.execute_reply": "2023-10-14T19:53:55.860080Z"
    },
    "papermill": {
     "duration": 0.161385,
     "end_time": "2023-10-14T19:53:55.863559",
     "exception": false,
     "start_time": "2023-10-14T19:53:55.702174",
     "status": "completed"
    },
    "tags": []
   },
   "outputs": [
    {
     "data": {
      "text/plain": [
       "array(['C', 'A', 'C', ..., 'D', 'C', 'B'], dtype=object)"
      ]
     },
     "execution_count": 8,
     "metadata": {},
     "output_type": "execute_result"
    }
   ],
   "source": [
    "#predicting the model with the test data set\n",
    "y_pred=classifier.predict(x_test)\n",
    "y_pred"
   ]
  },
  {
   "cell_type": "code",
   "execution_count": 9,
   "id": "bba9d425",
   "metadata": {
    "execution": {
     "iopub.execute_input": "2023-10-14T19:53:55.873042Z",
     "iopub.status.busy": "2023-10-14T19:53:55.872650Z",
     "iopub.status.idle": "2023-10-14T19:53:56.082533Z",
     "shell.execute_reply": "2023-10-14T19:53:56.081434Z"
    },
    "papermill": {
     "duration": 0.216859,
     "end_time": "2023-10-14T19:53:56.084532",
     "exception": false,
     "start_time": "2023-10-14T19:53:55.867673",
     "status": "completed"
    },
    "tags": []
   },
   "outputs": [
    {
     "name": "stdout",
     "output_type": "stream",
     "text": [
      "[[ 9207     1     0     0     0     0     0]\n",
      " [    2 15654     6     0     0     0     0]\n",
      " [    1     0 15289     0     0     0     0]\n",
      " [    0     0     0  7440     6     0     0]\n",
      " [    1     0     0     4  4211    10     0]\n",
      " [    0     0     0     3    64  1107     2]\n",
      " [    0     0     0     0    14    44   184]]\n"
     ]
    }
   ],
   "source": [
    "#creating the cofusion matrx that visually shows the prediction v/s actual value\n",
    "from sklearn.metrics import confusion_matrix\n",
    "cm=confusion_matrix(y_test,y_pred)\n",
    "print(cm)"
   ]
  },
  {
   "cell_type": "code",
   "execution_count": 10,
   "id": "0dbd49ad",
   "metadata": {
    "execution": {
     "iopub.execute_input": "2023-10-14T19:53:56.094534Z",
     "iopub.status.busy": "2023-10-14T19:53:56.093933Z",
     "iopub.status.idle": "2023-10-14T19:53:56.097381Z",
     "shell.execute_reply": "2023-10-14T19:53:56.096772Z"
    },
    "papermill": {
     "duration": 0.010375,
     "end_time": "2023-10-14T19:53:56.099065",
     "exception": false,
     "start_time": "2023-10-14T19:53:56.088690",
     "status": "completed"
    },
    "tags": []
   },
   "outputs": [],
   "source": [
    "#here in the above output you can see that the values or count notbelongs to diagonal are incorrect predictions\n"
   ]
  },
  {
   "cell_type": "code",
   "execution_count": 11,
   "id": "242f9e01",
   "metadata": {
    "execution": {
     "iopub.execute_input": "2023-10-14T19:53:56.109354Z",
     "iopub.status.busy": "2023-10-14T19:53:56.108647Z",
     "iopub.status.idle": "2023-10-14T19:53:56.112533Z",
     "shell.execute_reply": "2023-10-14T19:53:56.111745Z"
    },
    "papermill": {
     "duration": 0.01125,
     "end_time": "2023-10-14T19:53:56.114401",
     "exception": false,
     "start_time": "2023-10-14T19:53:56.103151",
     "status": "completed"
    },
    "tags": []
   },
   "outputs": [],
   "source": [
    "# for i in y_pred:\n",
    "#     display(i)"
   ]
  },
  {
   "cell_type": "code",
   "execution_count": null,
   "id": "e2b2781d",
   "metadata": {
    "papermill": {
     "duration": 0.003834,
     "end_time": "2023-10-14T19:53:56.122482",
     "exception": false,
     "start_time": "2023-10-14T19:53:56.118648",
     "status": "completed"
    },
    "tags": []
   },
   "outputs": [],
   "source": []
  }
 ],
 "metadata": {
  "kernelspec": {
   "display_name": "Python 3",
   "language": "python",
   "name": "python3"
  },
  "language_info": {
   "codemirror_mode": {
    "name": "ipython",
    "version": 3
   },
   "file_extension": ".py",
   "mimetype": "text/x-python",
   "name": "python",
   "nbconvert_exporter": "python",
   "pygments_lexer": "ipython3",
   "version": "3.10.12"
  },
  "papermill": {
   "default_parameters": {},
   "duration": 18.937105,
   "end_time": "2023-10-14T19:53:56.747082",
   "environment_variables": {},
   "exception": null,
   "input_path": "__notebook__.ipynb",
   "output_path": "__notebook__.ipynb",
   "parameters": {},
   "start_time": "2023-10-14T19:53:37.809977",
   "version": "2.4.0"
  }
 },
 "nbformat": 4,
 "nbformat_minor": 5
}
